{
 "cells": [
  {
   "cell_type": "markdown",
   "id": "5a47b0f9-c9d4-4244-8ea4-b7396e1bb299",
   "metadata": {
    "tags": []
   },
   "source": [
    "## **Data Exploration -- Transit Enhanced Network Data Analysis** \n",
    "###### This is a preliminary data analysis of \"Transit Enhanced Network\", which was downloaded from Los Angeles GeoHub.The data analysis will include basic information of the dataframe, plotting, and querying certain data. Transit Enhanced Network (TEN) service lines is proposed by Mobility Plan 2035. The proposed TEN will improve existing and future bus service on arterial streets by prioritizing improvements for transit riders.\n",
    "\n",
    "###### Source Link: https://geohub.lacity.org/datasets/lahub::transit-enhanced-network/about\n"
   ]
  },
  {
   "cell_type": "markdown",
   "id": "ca18644a-a223-462c-b0a9-98e148d70c9c",
   "metadata": {},
   "source": [
    "###### Import `pandas` and `geopandas` to the notebook for further analysis"
   ]
  },
  {
   "cell_type": "code",
   "execution_count": 1,
   "id": "495e1d87-51f6-4b84-ab9d-dce8be974088",
   "metadata": {},
   "outputs": [],
   "source": [
    "import pandas as pd\n",
    "import geopandas as gpd"
   ]
  },
  {
   "cell_type": "markdown",
   "id": "a68c75fc-b63a-47be-8ff7-e11dc7473cb5",
   "metadata": {},
   "source": [
    "###### Name the dataframe as \"df\" and and apply `gpd.read_file` to read the file"
   ]
  },
  {
   "cell_type": "code",
   "execution_count": 2,
   "id": "bba7b21b-5279-4fd1-8a00-a364e914b665",
   "metadata": {},
   "outputs": [
    {
     "name": "stderr",
     "output_type": "stream",
     "text": [
      "ERROR 1: PROJ: proj_create_from_database: Open of /opt/conda/share/proj failed\n"
     ]
    },
    {
     "data": {
      "text/html": [
       "<div>\n",
       "<style scoped>\n",
       "    .dataframe tbody tr th:only-of-type {\n",
       "        vertical-align: middle;\n",
       "    }\n",
       "\n",
       "    .dataframe tbody tr th {\n",
       "        vertical-align: top;\n",
       "    }\n",
       "\n",
       "    .dataframe thead th {\n",
       "        text-align: right;\n",
       "    }\n",
       "</style>\n",
       "<table border=\"1\" class=\"dataframe\">\n",
       "  <thead>\n",
       "    <tr style=\"text-align: right;\">\n",
       "      <th></th>\n",
       "      <th>OBJECTID</th>\n",
       "      <th>CF</th>\n",
       "      <th>CASE_NUM</th>\n",
       "      <th>SOURCE</th>\n",
       "      <th>ADOPTDATE</th>\n",
       "      <th>CPA_1</th>\n",
       "      <th>CPA_2</th>\n",
       "      <th>TRANSIT_N</th>\n",
       "      <th>Shape__Len</th>\n",
       "      <th>geometry</th>\n",
       "    </tr>\n",
       "  </thead>\n",
       "  <tbody>\n",
       "    <tr>\n",
       "      <th>0</th>\n",
       "      <td>1</td>\n",
       "      <td>15-0719</td>\n",
       "      <td>CPC-2013-910-GPA-SP-CA-MSC</td>\n",
       "      <td>None</td>\n",
       "      <td>2015-08-11</td>\n",
       "      <td>WCH</td>\n",
       "      <td>None</td>\n",
       "      <td>1</td>\n",
       "      <td>428.828885</td>\n",
       "      <td>LINESTRING (-118.37112 33.94526, -118.37497 33...</td>\n",
       "    </tr>\n",
       "    <tr>\n",
       "      <th>1</th>\n",
       "      <td>2</td>\n",
       "      <td>15-0719</td>\n",
       "      <td>CPC-2013-910-GPA-SP-CA-MSC-M2</td>\n",
       "      <td>None</td>\n",
       "      <td>2016-09-09</td>\n",
       "      <td>SLA</td>\n",
       "      <td>None</td>\n",
       "      <td>3</td>\n",
       "      <td>132.119712</td>\n",
       "      <td>LINESTRING (-118.29166 33.96879, -118.29166 33...</td>\n",
       "    </tr>\n",
       "    <tr>\n",
       "      <th>2</th>\n",
       "      <td>3</td>\n",
       "      <td>15-0719</td>\n",
       "      <td>CPC-2013-910-GPA-SP-CA-MSC-M2</td>\n",
       "      <td>None</td>\n",
       "      <td>2016-09-09</td>\n",
       "      <td>WCH</td>\n",
       "      <td>None</td>\n",
       "      <td>1</td>\n",
       "      <td>358.473571</td>\n",
       "      <td>LINESTRING (-118.37527 33.94525, -118.37765 33...</td>\n",
       "    </tr>\n",
       "    <tr>\n",
       "      <th>3</th>\n",
       "      <td>4</td>\n",
       "      <td>15-0719</td>\n",
       "      <td>CPC-2013-910-GPA-SP-CA-MSC</td>\n",
       "      <td>None</td>\n",
       "      <td>2015-08-11</td>\n",
       "      <td>WCH</td>\n",
       "      <td>None</td>\n",
       "      <td>1</td>\n",
       "      <td>33.032638</td>\n",
       "      <td>LINESTRING (-118.37497 33.94525, -118.37503 33...</td>\n",
       "    </tr>\n",
       "    <tr>\n",
       "      <th>4</th>\n",
       "      <td>5</td>\n",
       "      <td>15-0719</td>\n",
       "      <td>CPC-2013-910-GPA-SP-CA-MSC</td>\n",
       "      <td>None</td>\n",
       "      <td>2015-08-11</td>\n",
       "      <td>SVY</td>\n",
       "      <td>None</td>\n",
       "      <td>2</td>\n",
       "      <td>78.145866</td>\n",
       "      <td>LINESTRING (-118.38780 34.23308, -118.38780 34...</td>\n",
       "    </tr>\n",
       "    <tr>\n",
       "      <th>...</th>\n",
       "      <td>...</td>\n",
       "      <td>...</td>\n",
       "      <td>...</td>\n",
       "      <td>...</td>\n",
       "      <td>...</td>\n",
       "      <td>...</td>\n",
       "      <td>...</td>\n",
       "      <td>...</td>\n",
       "      <td>...</td>\n",
       "      <td>...</td>\n",
       "    </tr>\n",
       "    <tr>\n",
       "      <th>4457</th>\n",
       "      <td>4458</td>\n",
       "      <td>15-0719</td>\n",
       "      <td>CPC-2013-910-GPA-SP-CA-MSC</td>\n",
       "      <td>None</td>\n",
       "      <td>2015-08-11</td>\n",
       "      <td>SLA</td>\n",
       "      <td>None</td>\n",
       "      <td>2</td>\n",
       "      <td>57.910072</td>\n",
       "      <td>LINESTRING (-118.28102 34.01109, -118.28112 34...</td>\n",
       "    </tr>\n",
       "    <tr>\n",
       "      <th>4458</th>\n",
       "      <td>4459</td>\n",
       "      <td>15-0719</td>\n",
       "      <td>CPC-2013-910-GPA-SP-CA-MSC</td>\n",
       "      <td>None</td>\n",
       "      <td>2015-08-11</td>\n",
       "      <td>SLA</td>\n",
       "      <td>None</td>\n",
       "      <td>1</td>\n",
       "      <td>50.928968</td>\n",
       "      <td>LINESTRING (-118.28110 34.00378, -118.28121 34...</td>\n",
       "    </tr>\n",
       "    <tr>\n",
       "      <th>4459</th>\n",
       "      <td>4460</td>\n",
       "      <td>15-0719</td>\n",
       "      <td>CPC-2013-910-GPA-SP-CA-MSC</td>\n",
       "      <td>None</td>\n",
       "      <td>2015-08-11</td>\n",
       "      <td>SLA</td>\n",
       "      <td>None</td>\n",
       "      <td>3</td>\n",
       "      <td>123.313925</td>\n",
       "      <td>LINESTRING (-118.28051 33.98916, -118.28061 33...</td>\n",
       "    </tr>\n",
       "    <tr>\n",
       "      <th>4460</th>\n",
       "      <td>4461</td>\n",
       "      <td>15-0719</td>\n",
       "      <td>CPC-2013-910-GPA-SP-CA-MSC</td>\n",
       "      <td>None</td>\n",
       "      <td>2015-08-11</td>\n",
       "      <td>SEL</td>\n",
       "      <td>None</td>\n",
       "      <td>1</td>\n",
       "      <td>64.119370</td>\n",
       "      <td>LINESTRING (-118.27915 33.94555, -118.27917 33...</td>\n",
       "    </tr>\n",
       "    <tr>\n",
       "      <th>4461</th>\n",
       "      <td>4462</td>\n",
       "      <td>15-0719</td>\n",
       "      <td>CPC-2013-910-GPA-SP-CA-MSC</td>\n",
       "      <td>None</td>\n",
       "      <td>2015-08-11</td>\n",
       "      <td>SEL</td>\n",
       "      <td>None</td>\n",
       "      <td>2</td>\n",
       "      <td>48.359423</td>\n",
       "      <td>LINESTRING (-118.28038 33.97467, -118.28070 33...</td>\n",
       "    </tr>\n",
       "  </tbody>\n",
       "</table>\n",
       "<p>4462 rows × 10 columns</p>\n",
       "</div>"
      ],
      "text/plain": [
       "      OBJECTID       CF                       CASE_NUM SOURCE   ADOPTDATE  \\\n",
       "0            1  15-0719     CPC-2013-910-GPA-SP-CA-MSC   None  2015-08-11   \n",
       "1            2  15-0719  CPC-2013-910-GPA-SP-CA-MSC-M2   None  2016-09-09   \n",
       "2            3  15-0719  CPC-2013-910-GPA-SP-CA-MSC-M2   None  2016-09-09   \n",
       "3            4  15-0719     CPC-2013-910-GPA-SP-CA-MSC   None  2015-08-11   \n",
       "4            5  15-0719     CPC-2013-910-GPA-SP-CA-MSC   None  2015-08-11   \n",
       "...        ...      ...                            ...    ...         ...   \n",
       "4457      4458  15-0719     CPC-2013-910-GPA-SP-CA-MSC   None  2015-08-11   \n",
       "4458      4459  15-0719     CPC-2013-910-GPA-SP-CA-MSC   None  2015-08-11   \n",
       "4459      4460  15-0719     CPC-2013-910-GPA-SP-CA-MSC   None  2015-08-11   \n",
       "4460      4461  15-0719     CPC-2013-910-GPA-SP-CA-MSC   None  2015-08-11   \n",
       "4461      4462  15-0719     CPC-2013-910-GPA-SP-CA-MSC   None  2015-08-11   \n",
       "\n",
       "     CPA_1 CPA_2  TRANSIT_N  Shape__Len  \\\n",
       "0      WCH  None          1  428.828885   \n",
       "1      SLA  None          3  132.119712   \n",
       "2      WCH  None          1  358.473571   \n",
       "3      WCH  None          1   33.032638   \n",
       "4      SVY  None          2   78.145866   \n",
       "...    ...   ...        ...         ...   \n",
       "4457   SLA  None          2   57.910072   \n",
       "4458   SLA  None          1   50.928968   \n",
       "4459   SLA  None          3  123.313925   \n",
       "4460   SEL  None          1   64.119370   \n",
       "4461   SEL  None          2   48.359423   \n",
       "\n",
       "                                               geometry  \n",
       "0     LINESTRING (-118.37112 33.94526, -118.37497 33...  \n",
       "1     LINESTRING (-118.29166 33.96879, -118.29166 33...  \n",
       "2     LINESTRING (-118.37527 33.94525, -118.37765 33...  \n",
       "3     LINESTRING (-118.37497 33.94525, -118.37503 33...  \n",
       "4     LINESTRING (-118.38780 34.23308, -118.38780 34...  \n",
       "...                                                 ...  \n",
       "4457  LINESTRING (-118.28102 34.01109, -118.28112 34...  \n",
       "4458  LINESTRING (-118.28110 34.00378, -118.28121 34...  \n",
       "4459  LINESTRING (-118.28051 33.98916, -118.28061 33...  \n",
       "4460  LINESTRING (-118.27915 33.94555, -118.27917 33...  \n",
       "4461  LINESTRING (-118.28038 33.97467, -118.28070 33...  \n",
       "\n",
       "[4462 rows x 10 columns]"
      ]
     },
     "execution_count": 2,
     "metadata": {},
     "output_type": "execute_result"
    }
   ],
   "source": [
    "# read and add shapefile to notebook\n",
    "df = gpd.read_file('Transit_Enhanced_Network.zip')\n",
    "df\n"
   ]
  },
  {
   "cell_type": "markdown",
   "id": "d00cc221-9aba-4dc1-a29e-471d40227191",
   "metadata": {},
   "source": [
    "###### Apply `.shape` to understand the number of rows and columns in the df"
   ]
  },
  {
   "cell_type": "code",
   "execution_count": 19,
   "id": "ca59c0d4-5a2e-48a6-bb03-14310611c8e9",
   "metadata": {},
   "outputs": [
    {
     "data": {
      "text/plain": [
       "(4462, 10)"
      ]
     },
     "execution_count": 19,
     "metadata": {},
     "output_type": "execute_result"
    }
   ],
   "source": [
    "# Count the number of rows and columns of the data\n",
    "df.shape"
   ]
  },
  {
   "cell_type": "markdown",
   "id": "b5ceb09a-7456-463c-8230-e707e90844c1",
   "metadata": {},
   "source": [
    "###### Apply `.info` to understand original and more detailed df's info, which gives us a better idea of how the df look like"
   ]
  },
  {
   "cell_type": "code",
   "execution_count": 6,
   "id": "03c90ebf-556c-479a-a617-a4b42ce71f69",
   "metadata": {},
   "outputs": [
    {
     "data": {
      "text/plain": [
       "<bound method DataFrame.info of       OBJECTID       CF                       CASE_NUM SOURCE   ADOPTDATE  \\\n",
       "0            1  15-0719     CPC-2013-910-GPA-SP-CA-MSC   None  2015-08-11   \n",
       "1            2  15-0719  CPC-2013-910-GPA-SP-CA-MSC-M2   None  2016-09-09   \n",
       "2            3  15-0719  CPC-2013-910-GPA-SP-CA-MSC-M2   None  2016-09-09   \n",
       "3            4  15-0719     CPC-2013-910-GPA-SP-CA-MSC   None  2015-08-11   \n",
       "4            5  15-0719     CPC-2013-910-GPA-SP-CA-MSC   None  2015-08-11   \n",
       "...        ...      ...                            ...    ...         ...   \n",
       "4457      4458  15-0719     CPC-2013-910-GPA-SP-CA-MSC   None  2015-08-11   \n",
       "4458      4459  15-0719     CPC-2013-910-GPA-SP-CA-MSC   None  2015-08-11   \n",
       "4459      4460  15-0719     CPC-2013-910-GPA-SP-CA-MSC   None  2015-08-11   \n",
       "4460      4461  15-0719     CPC-2013-910-GPA-SP-CA-MSC   None  2015-08-11   \n",
       "4461      4462  15-0719     CPC-2013-910-GPA-SP-CA-MSC   None  2015-08-11   \n",
       "\n",
       "     CPA_1 CPA_2  TRANSIT_N  Shape__Len  \\\n",
       "0      WCH  None          1  428.828885   \n",
       "1      SLA  None          3  132.119712   \n",
       "2      WCH  None          1  358.473571   \n",
       "3      WCH  None          1   33.032638   \n",
       "4      SVY  None          2   78.145866   \n",
       "...    ...   ...        ...         ...   \n",
       "4457   SLA  None          2   57.910072   \n",
       "4458   SLA  None          1   50.928968   \n",
       "4459   SLA  None          3  123.313925   \n",
       "4460   SEL  None          1   64.119370   \n",
       "4461   SEL  None          2   48.359423   \n",
       "\n",
       "                                               geometry  \n",
       "0     LINESTRING (-118.37112 33.94526, -118.37497 33...  \n",
       "1     LINESTRING (-118.29166 33.96879, -118.29166 33...  \n",
       "2     LINESTRING (-118.37527 33.94525, -118.37765 33...  \n",
       "3     LINESTRING (-118.37497 33.94525, -118.37503 33...  \n",
       "4     LINESTRING (-118.38780 34.23308, -118.38780 34...  \n",
       "...                                                 ...  \n",
       "4457  LINESTRING (-118.28102 34.01109, -118.28112 34...  \n",
       "4458  LINESTRING (-118.28110 34.00378, -118.28121 34...  \n",
       "4459  LINESTRING (-118.28051 33.98916, -118.28061 33...  \n",
       "4460  LINESTRING (-118.27915 33.94555, -118.27917 33...  \n",
       "4461  LINESTRING (-118.28038 33.97467, -118.28070 33...  \n",
       "\n",
       "[4462 rows x 10 columns]>"
      ]
     },
     "execution_count": 6,
     "metadata": {},
     "output_type": "execute_result"
    }
   ],
   "source": [
    "# output the original data's info\n",
    "df.info"
   ]
  },
  {
   "cell_type": "markdown",
   "id": "861fba7f-1c35-49e6-9d18-06417cf64fd4",
   "metadata": {},
   "source": [
    "###### Apply `.head()` to see the data at the first five rows"
   ]
  },
  {
   "cell_type": "code",
   "execution_count": 7,
   "id": "c1a23dcf-7d6d-4713-a63f-2873d96d2e5f",
   "metadata": {},
   "outputs": [
    {
     "data": {
      "text/html": [
       "<div>\n",
       "<style scoped>\n",
       "    .dataframe tbody tr th:only-of-type {\n",
       "        vertical-align: middle;\n",
       "    }\n",
       "\n",
       "    .dataframe tbody tr th {\n",
       "        vertical-align: top;\n",
       "    }\n",
       "\n",
       "    .dataframe thead th {\n",
       "        text-align: right;\n",
       "    }\n",
       "</style>\n",
       "<table border=\"1\" class=\"dataframe\">\n",
       "  <thead>\n",
       "    <tr style=\"text-align: right;\">\n",
       "      <th></th>\n",
       "      <th>OBJECTID</th>\n",
       "      <th>CF</th>\n",
       "      <th>CASE_NUM</th>\n",
       "      <th>SOURCE</th>\n",
       "      <th>ADOPTDATE</th>\n",
       "      <th>CPA_1</th>\n",
       "      <th>CPA_2</th>\n",
       "      <th>TRANSIT_N</th>\n",
       "      <th>Shape__Len</th>\n",
       "      <th>geometry</th>\n",
       "    </tr>\n",
       "  </thead>\n",
       "  <tbody>\n",
       "    <tr>\n",
       "      <th>0</th>\n",
       "      <td>1</td>\n",
       "      <td>15-0719</td>\n",
       "      <td>CPC-2013-910-GPA-SP-CA-MSC</td>\n",
       "      <td>None</td>\n",
       "      <td>2015-08-11</td>\n",
       "      <td>WCH</td>\n",
       "      <td>None</td>\n",
       "      <td>1</td>\n",
       "      <td>428.828885</td>\n",
       "      <td>LINESTRING (-118.37112 33.94526, -118.37497 33...</td>\n",
       "    </tr>\n",
       "    <tr>\n",
       "      <th>1</th>\n",
       "      <td>2</td>\n",
       "      <td>15-0719</td>\n",
       "      <td>CPC-2013-910-GPA-SP-CA-MSC-M2</td>\n",
       "      <td>None</td>\n",
       "      <td>2016-09-09</td>\n",
       "      <td>SLA</td>\n",
       "      <td>None</td>\n",
       "      <td>3</td>\n",
       "      <td>132.119712</td>\n",
       "      <td>LINESTRING (-118.29166 33.96879, -118.29166 33...</td>\n",
       "    </tr>\n",
       "    <tr>\n",
       "      <th>2</th>\n",
       "      <td>3</td>\n",
       "      <td>15-0719</td>\n",
       "      <td>CPC-2013-910-GPA-SP-CA-MSC-M2</td>\n",
       "      <td>None</td>\n",
       "      <td>2016-09-09</td>\n",
       "      <td>WCH</td>\n",
       "      <td>None</td>\n",
       "      <td>1</td>\n",
       "      <td>358.473571</td>\n",
       "      <td>LINESTRING (-118.37527 33.94525, -118.37765 33...</td>\n",
       "    </tr>\n",
       "    <tr>\n",
       "      <th>3</th>\n",
       "      <td>4</td>\n",
       "      <td>15-0719</td>\n",
       "      <td>CPC-2013-910-GPA-SP-CA-MSC</td>\n",
       "      <td>None</td>\n",
       "      <td>2015-08-11</td>\n",
       "      <td>WCH</td>\n",
       "      <td>None</td>\n",
       "      <td>1</td>\n",
       "      <td>33.032638</td>\n",
       "      <td>LINESTRING (-118.37497 33.94525, -118.37503 33...</td>\n",
       "    </tr>\n",
       "    <tr>\n",
       "      <th>4</th>\n",
       "      <td>5</td>\n",
       "      <td>15-0719</td>\n",
       "      <td>CPC-2013-910-GPA-SP-CA-MSC</td>\n",
       "      <td>None</td>\n",
       "      <td>2015-08-11</td>\n",
       "      <td>SVY</td>\n",
       "      <td>None</td>\n",
       "      <td>2</td>\n",
       "      <td>78.145866</td>\n",
       "      <td>LINESTRING (-118.38780 34.23308, -118.38780 34...</td>\n",
       "    </tr>\n",
       "  </tbody>\n",
       "</table>\n",
       "</div>"
      ],
      "text/plain": [
       "   OBJECTID       CF                       CASE_NUM SOURCE   ADOPTDATE CPA_1  \\\n",
       "0         1  15-0719     CPC-2013-910-GPA-SP-CA-MSC   None  2015-08-11   WCH   \n",
       "1         2  15-0719  CPC-2013-910-GPA-SP-CA-MSC-M2   None  2016-09-09   SLA   \n",
       "2         3  15-0719  CPC-2013-910-GPA-SP-CA-MSC-M2   None  2016-09-09   WCH   \n",
       "3         4  15-0719     CPC-2013-910-GPA-SP-CA-MSC   None  2015-08-11   WCH   \n",
       "4         5  15-0719     CPC-2013-910-GPA-SP-CA-MSC   None  2015-08-11   SVY   \n",
       "\n",
       "  CPA_2  TRANSIT_N  Shape__Len  \\\n",
       "0  None          1  428.828885   \n",
       "1  None          3  132.119712   \n",
       "2  None          1  358.473571   \n",
       "3  None          1   33.032638   \n",
       "4  None          2   78.145866   \n",
       "\n",
       "                                            geometry  \n",
       "0  LINESTRING (-118.37112 33.94526, -118.37497 33...  \n",
       "1  LINESTRING (-118.29166 33.96879, -118.29166 33...  \n",
       "2  LINESTRING (-118.37527 33.94525, -118.37765 33...  \n",
       "3  LINESTRING (-118.37497 33.94525, -118.37503 33...  \n",
       "4  LINESTRING (-118.38780 34.23308, -118.38780 34...  "
      ]
     },
     "execution_count": 7,
     "metadata": {},
     "output_type": "execute_result"
    }
   ],
   "source": [
    "# See how the data look like at the first five rows \n",
    "df.head()"
   ]
  },
  {
   "cell_type": "markdown",
   "id": "d810377d-2b0b-484a-a22e-af21004465ac",
   "metadata": {},
   "source": [
    "###### Apply `.sample(5)` to randomly select five rows as sample data "
   ]
  },
  {
   "cell_type": "code",
   "execution_count": 9,
   "id": "e8c81762-67bf-4550-a284-eac817e3b412",
   "metadata": {},
   "outputs": [
    {
     "data": {
      "text/html": [
       "<div>\n",
       "<style scoped>\n",
       "    .dataframe tbody tr th:only-of-type {\n",
       "        vertical-align: middle;\n",
       "    }\n",
       "\n",
       "    .dataframe tbody tr th {\n",
       "        vertical-align: top;\n",
       "    }\n",
       "\n",
       "    .dataframe thead th {\n",
       "        text-align: right;\n",
       "    }\n",
       "</style>\n",
       "<table border=\"1\" class=\"dataframe\">\n",
       "  <thead>\n",
       "    <tr style=\"text-align: right;\">\n",
       "      <th></th>\n",
       "      <th>OBJECTID</th>\n",
       "      <th>CF</th>\n",
       "      <th>CASE_NUM</th>\n",
       "      <th>SOURCE</th>\n",
       "      <th>ADOPTDATE</th>\n",
       "      <th>CPA_1</th>\n",
       "      <th>CPA_2</th>\n",
       "      <th>TRANSIT_N</th>\n",
       "      <th>Shape__Len</th>\n",
       "      <th>geometry</th>\n",
       "    </tr>\n",
       "  </thead>\n",
       "  <tbody>\n",
       "    <tr>\n",
       "      <th>2073</th>\n",
       "      <td>2074</td>\n",
       "      <td>15-0719</td>\n",
       "      <td>CPC-2013-910-GPA-SP-CA-MSC</td>\n",
       "      <td>None</td>\n",
       "      <td>2015-08-11</td>\n",
       "      <td>SLK</td>\n",
       "      <td>None</td>\n",
       "      <td>2</td>\n",
       "      <td>50.507734</td>\n",
       "      <td>LINESTRING (-118.27690 34.08975, -118.27692 34...</td>\n",
       "    </tr>\n",
       "    <tr>\n",
       "      <th>3276</th>\n",
       "      <td>3277</td>\n",
       "      <td>15-0719</td>\n",
       "      <td>CPC-2013-910-GPA-SP-CA-MSC</td>\n",
       "      <td>None</td>\n",
       "      <td>2015-08-11</td>\n",
       "      <td>WLA</td>\n",
       "      <td>None</td>\n",
       "      <td>2</td>\n",
       "      <td>188.473074</td>\n",
       "      <td>LINESTRING (-118.39912 34.05495, -118.39927 34...</td>\n",
       "    </tr>\n",
       "    <tr>\n",
       "      <th>1734</th>\n",
       "      <td>1735</td>\n",
       "      <td>15-0719</td>\n",
       "      <td>CPC-2013-910-GPA-SP-CA-MSC</td>\n",
       "      <td>None</td>\n",
       "      <td>2015-08-11</td>\n",
       "      <td>RES</td>\n",
       "      <td>None</td>\n",
       "      <td>2</td>\n",
       "      <td>146.020643</td>\n",
       "      <td>LINESTRING (-118.53603 34.18076, -118.53603 34...</td>\n",
       "    </tr>\n",
       "    <tr>\n",
       "      <th>3403</th>\n",
       "      <td>3404</td>\n",
       "      <td>15-0719</td>\n",
       "      <td>CPC-2013-910-GPA-SP-CA-MSC</td>\n",
       "      <td>None</td>\n",
       "      <td>2015-08-11</td>\n",
       "      <td>WLA</td>\n",
       "      <td>None</td>\n",
       "      <td>2</td>\n",
       "      <td>69.819619</td>\n",
       "      <td>LINESTRING (-118.39428 34.05525, -118.39491 34...</td>\n",
       "    </tr>\n",
       "    <tr>\n",
       "      <th>4331</th>\n",
       "      <td>4332</td>\n",
       "      <td>15-0719</td>\n",
       "      <td>CPC-2013-910-GPA-SP-CA-MSC</td>\n",
       "      <td>None</td>\n",
       "      <td>2015-08-11</td>\n",
       "      <td>SLA</td>\n",
       "      <td>None</td>\n",
       "      <td>1</td>\n",
       "      <td>121.874127</td>\n",
       "      <td>LINESTRING (-118.28271 34.00286, -118.28271 34...</td>\n",
       "    </tr>\n",
       "  </tbody>\n",
       "</table>\n",
       "</div>"
      ],
      "text/plain": [
       "      OBJECTID       CF                    CASE_NUM SOURCE   ADOPTDATE CPA_1  \\\n",
       "2073      2074  15-0719  CPC-2013-910-GPA-SP-CA-MSC   None  2015-08-11   SLK   \n",
       "3276      3277  15-0719  CPC-2013-910-GPA-SP-CA-MSC   None  2015-08-11   WLA   \n",
       "1734      1735  15-0719  CPC-2013-910-GPA-SP-CA-MSC   None  2015-08-11   RES   \n",
       "3403      3404  15-0719  CPC-2013-910-GPA-SP-CA-MSC   None  2015-08-11   WLA   \n",
       "4331      4332  15-0719  CPC-2013-910-GPA-SP-CA-MSC   None  2015-08-11   SLA   \n",
       "\n",
       "     CPA_2  TRANSIT_N  Shape__Len  \\\n",
       "2073  None          2   50.507734   \n",
       "3276  None          2  188.473074   \n",
       "1734  None          2  146.020643   \n",
       "3403  None          2   69.819619   \n",
       "4331  None          1  121.874127   \n",
       "\n",
       "                                               geometry  \n",
       "2073  LINESTRING (-118.27690 34.08975, -118.27692 34...  \n",
       "3276  LINESTRING (-118.39912 34.05495, -118.39927 34...  \n",
       "1734  LINESTRING (-118.53603 34.18076, -118.53603 34...  \n",
       "3403  LINESTRING (-118.39428 34.05525, -118.39491 34...  \n",
       "4331  LINESTRING (-118.28271 34.00286, -118.28271 34...  "
      ]
     },
     "execution_count": 9,
     "metadata": {},
     "output_type": "execute_result"
    }
   ],
   "source": [
    "# Randomly select five rows as sample data \n",
    "df.sample(5)"
   ]
  },
  {
   "cell_type": "markdown",
   "id": "0c47e85d-27ed-4132-ac77-c5615f3bbed6",
   "metadata": {},
   "source": [
    "###### Apply `.columns.to_list()` to see all the columns, which is an important step when there are many columns in the df "
   ]
  },
  {
   "cell_type": "code",
   "execution_count": 8,
   "id": "f26622d5-3196-4588-88c1-001e6382a540",
   "metadata": {},
   "outputs": [
    {
     "data": {
      "text/plain": [
       "['OBJECTID',\n",
       " 'CF',\n",
       " 'CASE_NUM',\n",
       " 'SOURCE',\n",
       " 'ADOPTDATE',\n",
       " 'CPA_1',\n",
       " 'CPA_2',\n",
       " 'TRANSIT_N',\n",
       " 'Shape__Len',\n",
       " 'geometry']"
      ]
     },
     "execution_count": 8,
     "metadata": {},
     "output_type": "execute_result"
    }
   ],
   "source": [
    "# See all the columns?\n",
    "df.columns.to_list()"
   ]
  },
  {
   "cell_type": "markdown",
   "id": "d5d1399b-2be4-44db-966c-e5a6fdb94064",
   "metadata": {},
   "source": [
    "###### Here I chose column \"CPA_1\", which seems to be airport or some transport stations, as my analysis target. `.columns.to_list()` was applied to see all the unique values. "
   ]
  },
  {
   "cell_type": "code",
   "execution_count": 16,
   "id": "25223511-e684-4c9d-8659-af829658e0c0",
   "metadata": {},
   "outputs": [
    {
     "data": {
      "text/plain": [
       "array(['WCH', 'SLA', 'SVY', 'CCY', 'SHR', 'PLM', 'GHL', 'RES', 'WLK',\n",
       "       'MSS', 'ARL', 'NRD', 'CPK', 'HWD', 'WLM', 'NLA', 'BHT', 'VNY',\n",
       "       'CHT', 'SLK', 'WIL', 'PTL', 'CCN', 'WAD', 'ENC', 'NHL', 'SYL',\n",
       "       'VEN', 'WWD', 'SPD', 'WLA', 'SEL', 'LAX', 'BTW'], dtype=object)"
      ]
     },
     "execution_count": 16,
     "metadata": {},
     "output_type": "execute_result"
    }
   ],
   "source": [
    "# find unique values in the CPA_1 column \n",
    "df.CPA_1.unique()"
   ]
  },
  {
   "cell_type": "markdown",
   "id": "0e296ef2-ea5f-41b9-be16-c76db5d83ad5",
   "metadata": {},
   "source": [
    "###### Count the number of each unique values in the CPA_1 column with `.value_counts()`"
   ]
  },
  {
   "cell_type": "code",
   "execution_count": 26,
   "id": "eec425da-4cdd-4c2b-9a95-8db359b46f19",
   "metadata": {},
   "outputs": [
    {
     "data": {
      "text/plain": [
       "WIL    568\n",
       "SLA    549\n",
       "SEL    424\n",
       "NLA    346\n",
       "HWD    239\n",
       "WAD    225\n",
       "CCY    218\n",
       "PLM    171\n",
       "WLA    158\n",
       "BHT    141\n",
       "MSS    134\n",
       "WLK    129\n",
       "SHR     99\n",
       "RES     92\n",
       "VEN     91\n",
       "ARL     86\n",
       "VNY     83\n",
       "SVY     72\n",
       "WCH     69\n",
       "ENC     68\n",
       "CCN     64\n",
       "WLM     63\n",
       "NHL     55\n",
       "SLK     54\n",
       "CPK     48\n",
       "NRD     43\n",
       "WWD     38\n",
       "SYL     32\n",
       "SPD     24\n",
       "GHL     24\n",
       "CHT     22\n",
       "BTW     18\n",
       "LAX     11\n",
       "PTL      4\n",
       "Name: CPA_1, dtype: int64"
      ]
     },
     "execution_count": 26,
     "metadata": {},
     "output_type": "execute_result"
    }
   ],
   "source": [
    "# Count each unique values in the CPA_1 column \n",
    "df['CPA_1'].value_counts()"
   ]
  },
  {
   "cell_type": "markdown",
   "id": "95bee71c-7972-4bb1-af99-602e55898388",
   "metadata": {},
   "source": [
    "###### Apply `.query` to select all the data with \"LAX\" in column CPA_1 and create a new df named \"df_LAX\"   "
   ]
  },
  {
   "cell_type": "code",
   "execution_count": 14,
   "id": "23f16442-1c14-4598-9090-8d33181346e6",
   "metadata": {},
   "outputs": [
    {
     "data": {
      "text/html": [
       "<div>\n",
       "<style scoped>\n",
       "    .dataframe tbody tr th:only-of-type {\n",
       "        vertical-align: middle;\n",
       "    }\n",
       "\n",
       "    .dataframe tbody tr th {\n",
       "        vertical-align: top;\n",
       "    }\n",
       "\n",
       "    .dataframe thead th {\n",
       "        text-align: right;\n",
       "    }\n",
       "</style>\n",
       "<table border=\"1\" class=\"dataframe\">\n",
       "  <thead>\n",
       "    <tr style=\"text-align: right;\">\n",
       "      <th></th>\n",
       "      <th>OBJECTID</th>\n",
       "      <th>CF</th>\n",
       "      <th>CASE_NUM</th>\n",
       "      <th>SOURCE</th>\n",
       "      <th>ADOPTDATE</th>\n",
       "      <th>CPA_1</th>\n",
       "      <th>CPA_2</th>\n",
       "      <th>TRANSIT_N</th>\n",
       "      <th>Shape__Len</th>\n",
       "      <th>geometry</th>\n",
       "    </tr>\n",
       "  </thead>\n",
       "  <tbody>\n",
       "    <tr>\n",
       "      <th>2694</th>\n",
       "      <td>2695</td>\n",
       "      <td>15-0719</td>\n",
       "      <td>CPC-2013-910-GPA-SP-CA-MSC</td>\n",
       "      <td>None</td>\n",
       "      <td>2015-08-11</td>\n",
       "      <td>LAX</td>\n",
       "      <td>None</td>\n",
       "      <td>3</td>\n",
       "      <td>284.561904</td>\n",
       "      <td>LINESTRING (-118.41215 33.95370, -118.41208 33...</td>\n",
       "    </tr>\n",
       "    <tr>\n",
       "      <th>2695</th>\n",
       "      <td>2696</td>\n",
       "      <td>15-0719</td>\n",
       "      <td>CPC-2013-910-GPA-SP-CA-MSC</td>\n",
       "      <td>None</td>\n",
       "      <td>2015-08-11</td>\n",
       "      <td>LAX</td>\n",
       "      <td>None</td>\n",
       "      <td>3</td>\n",
       "      <td>33.387358</td>\n",
       "      <td>LINESTRING (-118.41259 33.95388, -118.41250 33...</td>\n",
       "    </tr>\n",
       "    <tr>\n",
       "      <th>2696</th>\n",
       "      <td>2697</td>\n",
       "      <td>15-0719</td>\n",
       "      <td>CPC-2013-910-GPA-SP-CA-MSC</td>\n",
       "      <td>None</td>\n",
       "      <td>2015-08-11</td>\n",
       "      <td>LAX</td>\n",
       "      <td>None</td>\n",
       "      <td>3</td>\n",
       "      <td>20.840996</td>\n",
       "      <td>LINESTRING (-118.41232 33.95377, -118.41222 33...</td>\n",
       "    </tr>\n",
       "    <tr>\n",
       "      <th>2697</th>\n",
       "      <td>2698</td>\n",
       "      <td>15-0719</td>\n",
       "      <td>CPC-2013-910-GPA-SP-CA-MSC</td>\n",
       "      <td>None</td>\n",
       "      <td>2015-08-11</td>\n",
       "      <td>LAX</td>\n",
       "      <td>None</td>\n",
       "      <td>3</td>\n",
       "      <td>19.348451</td>\n",
       "      <td>LINESTRING (-118.41274 33.95395, -118.41263 33...</td>\n",
       "    </tr>\n",
       "    <tr>\n",
       "      <th>2957</th>\n",
       "      <td>2958</td>\n",
       "      <td>15-0719</td>\n",
       "      <td>CPC-2013-910-GPA-SP-CA-MSC</td>\n",
       "      <td>None</td>\n",
       "      <td>2015-08-11</td>\n",
       "      <td>LAX</td>\n",
       "      <td>WCH</td>\n",
       "      <td>3</td>\n",
       "      <td>53.882559</td>\n",
       "      <td>LINESTRING (-118.39622 33.94735, -118.39622 33...</td>\n",
       "    </tr>\n",
       "    <tr>\n",
       "      <th>3346</th>\n",
       "      <td>3347</td>\n",
       "      <td>15-0719</td>\n",
       "      <td>CPC-2013-910-GPA-SP-CA-MSC</td>\n",
       "      <td>LAWA Street Dimensions</td>\n",
       "      <td>2015-08-11</td>\n",
       "      <td>LAX</td>\n",
       "      <td>None</td>\n",
       "      <td>1</td>\n",
       "      <td>4.541301</td>\n",
       "      <td>LINESTRING (-118.39203 33.94556, -118.39207 33...</td>\n",
       "    </tr>\n",
       "    <tr>\n",
       "      <th>3368</th>\n",
       "      <td>3369</td>\n",
       "      <td>15-0719</td>\n",
       "      <td>CPC-2013-910-GPA-SP-CA-MSC</td>\n",
       "      <td>LAWA Street Dimensions</td>\n",
       "      <td>2015-08-11</td>\n",
       "      <td>LAX</td>\n",
       "      <td>None</td>\n",
       "      <td>1</td>\n",
       "      <td>18.247688</td>\n",
       "      <td>LINESTRING (-118.39207 33.94557, -118.39223 33...</td>\n",
       "    </tr>\n",
       "    <tr>\n",
       "      <th>3422</th>\n",
       "      <td>3423</td>\n",
       "      <td>15-0719</td>\n",
       "      <td>CPC-2013-910-GPA-SP-CA-MSC</td>\n",
       "      <td>None</td>\n",
       "      <td>2015-08-11</td>\n",
       "      <td>LAX</td>\n",
       "      <td>None</td>\n",
       "      <td>3</td>\n",
       "      <td>109.642828</td>\n",
       "      <td>LINESTRING (-118.39621 33.95268, -118.39622 33...</td>\n",
       "    </tr>\n",
       "    <tr>\n",
       "      <th>3423</th>\n",
       "      <td>3424</td>\n",
       "      <td>15-0719</td>\n",
       "      <td>CPC-2013-910-GPA-SP-CA-MSC</td>\n",
       "      <td>None</td>\n",
       "      <td>2015-08-11</td>\n",
       "      <td>LAX</td>\n",
       "      <td>None</td>\n",
       "      <td>3</td>\n",
       "      <td>421.759683</td>\n",
       "      <td>LINESTRING (-118.39622 33.95186, -118.39622 33...</td>\n",
       "    </tr>\n",
       "    <tr>\n",
       "      <th>3429</th>\n",
       "      <td>3430</td>\n",
       "      <td>15-0719</td>\n",
       "      <td>CPC-2013-910-GPA-SP-CA-MSC</td>\n",
       "      <td>None</td>\n",
       "      <td>2015-08-11</td>\n",
       "      <td>LAX</td>\n",
       "      <td>None</td>\n",
       "      <td>3</td>\n",
       "      <td>1568.820693</td>\n",
       "      <td>LINESTRING (-118.40967 33.95324, -118.40840 33...</td>\n",
       "    </tr>\n",
       "    <tr>\n",
       "      <th>3638</th>\n",
       "      <td>3639</td>\n",
       "      <td>15-0719</td>\n",
       "      <td>CPC-2013-910-GPA-SP-CA-MSC</td>\n",
       "      <td>None</td>\n",
       "      <td>2015-08-11</td>\n",
       "      <td>LAX</td>\n",
       "      <td>WCH</td>\n",
       "      <td>3</td>\n",
       "      <td>183.215320</td>\n",
       "      <td>LINESTRING (-118.39622 33.94872, -118.39622 33...</td>\n",
       "    </tr>\n",
       "  </tbody>\n",
       "</table>\n",
       "</div>"
      ],
      "text/plain": [
       "      OBJECTID       CF                    CASE_NUM                  SOURCE  \\\n",
       "2694      2695  15-0719  CPC-2013-910-GPA-SP-CA-MSC                    None   \n",
       "2695      2696  15-0719  CPC-2013-910-GPA-SP-CA-MSC                    None   \n",
       "2696      2697  15-0719  CPC-2013-910-GPA-SP-CA-MSC                    None   \n",
       "2697      2698  15-0719  CPC-2013-910-GPA-SP-CA-MSC                    None   \n",
       "2957      2958  15-0719  CPC-2013-910-GPA-SP-CA-MSC                    None   \n",
       "3346      3347  15-0719  CPC-2013-910-GPA-SP-CA-MSC  LAWA Street Dimensions   \n",
       "3368      3369  15-0719  CPC-2013-910-GPA-SP-CA-MSC  LAWA Street Dimensions   \n",
       "3422      3423  15-0719  CPC-2013-910-GPA-SP-CA-MSC                    None   \n",
       "3423      3424  15-0719  CPC-2013-910-GPA-SP-CA-MSC                    None   \n",
       "3429      3430  15-0719  CPC-2013-910-GPA-SP-CA-MSC                    None   \n",
       "3638      3639  15-0719  CPC-2013-910-GPA-SP-CA-MSC                    None   \n",
       "\n",
       "       ADOPTDATE CPA_1 CPA_2  TRANSIT_N   Shape__Len  \\\n",
       "2694  2015-08-11   LAX  None          3   284.561904   \n",
       "2695  2015-08-11   LAX  None          3    33.387358   \n",
       "2696  2015-08-11   LAX  None          3    20.840996   \n",
       "2697  2015-08-11   LAX  None          3    19.348451   \n",
       "2957  2015-08-11   LAX   WCH          3    53.882559   \n",
       "3346  2015-08-11   LAX  None          1     4.541301   \n",
       "3368  2015-08-11   LAX  None          1    18.247688   \n",
       "3422  2015-08-11   LAX  None          3   109.642828   \n",
       "3423  2015-08-11   LAX  None          3   421.759683   \n",
       "3429  2015-08-11   LAX  None          3  1568.820693   \n",
       "3638  2015-08-11   LAX   WCH          3   183.215320   \n",
       "\n",
       "                                               geometry  \n",
       "2694  LINESTRING (-118.41215 33.95370, -118.41208 33...  \n",
       "2695  LINESTRING (-118.41259 33.95388, -118.41250 33...  \n",
       "2696  LINESTRING (-118.41232 33.95377, -118.41222 33...  \n",
       "2697  LINESTRING (-118.41274 33.95395, -118.41263 33...  \n",
       "2957  LINESTRING (-118.39622 33.94735, -118.39622 33...  \n",
       "3346  LINESTRING (-118.39203 33.94556, -118.39207 33...  \n",
       "3368  LINESTRING (-118.39207 33.94557, -118.39223 33...  \n",
       "3422  LINESTRING (-118.39621 33.95268, -118.39622 33...  \n",
       "3423  LINESTRING (-118.39622 33.95186, -118.39622 33...  \n",
       "3429  LINESTRING (-118.40967 33.95324, -118.40840 33...  \n",
       "3638  LINESTRING (-118.39622 33.94872, -118.39622 33...  "
      ]
     },
     "execution_count": 14,
     "metadata": {},
     "output_type": "execute_result"
    }
   ],
   "source": [
    "# Query 'LAX' in column CPA_1 and save it as a variable\n",
    "df_LAX = df.query(\"CPA_1 == 'LAX'\")\n",
    "df_LAX"
   ]
  },
  {
   "cell_type": "markdown",
   "id": "e9a76390-cc9b-40e6-8290-b293c31f09af",
   "metadata": {},
   "source": [
    "###### Plot the df with `.plot()` to visualize the original df"
   ]
  },
  {
   "cell_type": "code",
   "execution_count": 7,
   "id": "9bc9f54c-4ba2-481a-85d3-f480da3b7334",
   "metadata": {},
   "outputs": [
    {
     "data": {
      "text/plain": [
       "<AxesSubplot: >"
      ]
     },
     "execution_count": 7,
     "metadata": {},
     "output_type": "execute_result"
    },
    {
     "data": {
      "image/png": "[encoded data removed]",
      "text/plain": [
       "<Figure size 640x480 with 1 Axes>"
      ]
     },
     "metadata": {},
     "output_type": "display_data"
    }
   ],
   "source": [
    "# Plot the data\n",
    "df.plot()"
   ]
  },
  {
   "cell_type": "markdown",
   "id": "69620989-2635-493e-b784-fe4884687047",
   "metadata": {},
   "source": [
    "###### The plot does not look good since many infos are missing. Thus, another method is used to create a better plot. First,`matplotlib.pyplot` is imported. Then, apply `.plot()` as before to visualize the data. In the `.plot()`, \" figsize\" is used to resize the plot. Furthermore,`plt.title`,`plt.xlabel`, and  `plt.ylabel` are applied to add the name, x and y labels to the plot, which makes the plot easier to read. "
   ]
  },
  {
   "cell_type": "code",
   "execution_count": 17,
   "id": "692e5838-e998-41cb-ab14-bf0bc00a5995",
   "metadata": {},
   "outputs": [
    {
     "data": {
      "text/plain": [
       "Text(223.99728092038106, 0.5, 'Longitude')"
      ]
     },
     "execution_count": 17,
     "metadata": {},
     "output_type": "execute_result"
    },
    {
     "data": {
      "image/png": "[encoded data removed]",
      "text/plain": [
       "<Figure size 1000x1000 with 1 Axes>"
      ]
     },
     "metadata": {},
     "output_type": "display_data"
    }
   ],
   "source": [
    "# Visualize the df in a more detailed way \n",
    "import matplotlib.pyplot as plt\n",
    "\n",
    "df.plot(\n",
    "     figsize=(10,10),                      # Size of the plot\n",
    ")\n",
    "plt.title(\"Transit Enhanced Network\")      # Name the plot \n",
    "plt.xlabel(\"Latitude\")                     # Label X axis of the plot\n",
    "plt.ylabel(\"Longitude\")                    # Label Y axis of the plot"
   ]
  },
  {
   "cell_type": "markdown",
   "id": "e9b4c218-10fa-41cf-85d0-fa9c6f30d004",
   "metadata": {},
   "source": [
    "###### To see the specific transit enhanced network of LAX, just repeat the same code as previous cell and change \"df\" to \"df_LAX\"."
   ]
  },
  {
   "cell_type": "code",
   "execution_count": 18,
   "id": "d406abb8-06a5-411d-b0b8-8d8cf2beab19",
   "metadata": {},
   "outputs": [
    {
     "data": {
      "text/plain": [
       "Text(60.972222222222214, 0.5, 'Longitude')"
      ]
     },
     "execution_count": 18,
     "metadata": {},
     "output_type": "execute_result"
    },
    {
     "data": {
      "image/png": "[encoded data removed]",
      "text/plain": [
       "<Figure size 1000x1000 with 1 Axes>"
      ]
     },
     "metadata": {},
     "output_type": "display_data"
    }
   ],
   "source": [
    "# Visualize df_LAX   \n",
    "df_LAX.plot(\n",
    "     figsize=(10,10),                      # Size of the plot\n",
    ")\n",
    "plt.title(\"LAX Transit Enhanced Network\")      # Name the plot \n",
    "plt.xlabel(\"Latitude\")                     # Label X axis of the plot\n",
    "plt.ylabel(\"Longitude\")                    # Label Y axis of the plot"
   ]
  },
  {
   "cell_type": "markdown",
   "id": "6f82198d-1546-4636-b8eb-58ccf4a9e1f7",
   "metadata": {},
   "source": [
    "###### This is my data exploration of df \"Transit Enhanced Network\". Enjoy!"
   ]
  }
 ],
 "metadata": {
  "kernelspec": {
   "display_name": "Python 3 (ipykernel)",
   "language": "python",
   "name": "python3"
  },
  "language_info": {
   "codemirror_mode": {
    "name": "ipython",
    "version": 3
   },
   "file_extension": ".py",
   "mimetype": "text/x-python",
   "name": "python",
   "nbconvert_exporter": "python",
   "pygments_lexer": "ipython3",
   "version": "3.10.8"
  },
  "toc-autonumbering": true,
  "toc-showcode": true,
  "toc-showmarkdowntxt": true
 },
 "nbformat": 4,
 "nbformat_minor": 5
}
